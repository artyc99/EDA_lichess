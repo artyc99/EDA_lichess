{
 "cells": [
  {
   "cell_type": "code",
   "execution_count": null,
   "id": "f07c1696-d2c0-4134-9908-782f6e771cec",
   "metadata": {},
   "outputs": [],
   "source": [
    "pip install pandas"
   ]
  },
  {
   "cell_type": "code",
   "execution_count": null,
   "id": "d5e5fbd2-77d4-41e6-8e92-a189a8d785ef",
   "metadata": {},
   "outputs": [],
   "source": [
    "pip install matplotlib"
   ]
  },
  {
   "cell_type": "code",
   "execution_count": null,
   "id": "6877a45f-ec1c-4d23-b075-590034c35839",
   "metadata": {},
   "outputs": [],
   "source": [
    "pip install scipy"
   ]
  },
  {
   "cell_type": "code",
   "execution_count": null,
   "id": "33836b41-70f1-4fea-beb7-0baf31821681",
   "metadata": {},
   "outputs": [],
   "source": [
    "pip install numpy"
   ]
  },
  {
   "cell_type": "code",
   "execution_count": null,
   "id": "650c3529-941e-4ca2-9f56-ae514e2b01f6",
   "metadata": {},
   "outputs": [],
   "source": [
    "pip install seaborn"
   ]
  },
  {
   "cell_type": "code",
   "execution_count": null,
   "id": "7137333c-e6e4-47f9-8233-80f572b82dc1",
   "metadata": {},
   "outputs": [],
   "source": [
    "import numpy as np\n",
    "import pandas as pd\n",
    "import matplotlib.pyplot as plt\n",
    "import scipy as sc\n",
    "from numpy.random import randn\n",
    "import seaborn as sns\n",
    "from scipy import stats\n",
    "\n",
    "%matplotlib inline"
   ]
  },
  {
   "cell_type": "code",
   "execution_count": null,
   "id": "a72aa270-4b1f-41d8-9877-7a8d01bd2777",
   "metadata": {},
   "outputs": [],
   "source": [
    "import os\n",
    "import os.path"
   ]
  },
  {
   "cell_type": "markdown",
   "id": "62496002-f319-4525-9c44-97c1b59d8de7",
   "metadata": {},
   "source": [
    "Загрузим данные о шахматных встречах из csv файла"
   ]
  },
  {
   "cell_type": "code",
   "execution_count": null,
   "id": "9653efc6-fdee-4611-bf9a-15626cfc366f",
   "metadata": {},
   "outputs": [],
   "source": [
    "train = pd.read_csv('./games.csv')\n",
    "test = pd.read_csv('./test.csv')"
   ]
  },
  {
   "cell_type": "markdown",
   "id": "4f5b6823-e205-4ff7-826a-7c1de72929e9",
   "metadata": {},
   "source": [
    "просмотрим количество строк и колонок для количественной оценки данных"
   ]
  },
  {
   "cell_type": "code",
   "execution_count": null,
   "id": "10677241-82f1-4626-bad3-f3ac2d58b33e",
   "metadata": {},
   "outputs": [],
   "source": [
    "train.shape"
   ]
  },
  {
   "cell_type": "code",
   "execution_count": null,
   "id": "c5a13e3a-4681-462b-8ded-da1d30bc901b",
   "metadata": {},
   "outputs": [],
   "source": [
    "просмотрим наименования колонок с которыми будем работать"
   ]
  },
  {
   "cell_type": "code",
   "execution_count": null,
   "id": "8fce6f89-4c7c-440f-b34d-d5a62b8e796d",
   "metadata": {},
   "outputs": [],
   "source": [
    "train.columns"
   ]
  },
  {
   "cell_type": "markdown",
   "id": "00d3ccdc-e1c0-4304-9b3d-39320da19ec5",
   "metadata": {},
   "source": [
    "Просмотрим первые строки для оценки типов данных и их наличия"
   ]
  },
  {
   "cell_type": "code",
   "execution_count": null,
   "id": "c101469f-0cd3-48e1-bdc9-63087cbc6e25",
   "metadata": {},
   "outputs": [],
   "source": [
    "train.head()"
   ]
  },
  {
   "cell_type": "markdown",
   "id": "55b20e9c-54f3-466d-b438-cbf366e141a0",
   "metadata": {},
   "source": [
    "В данной модели нас интересует влияние очков рейтинга на исход встречи\n",
    "\n",
    "Для этого создадим поля для численной оценки:\n",
    "1) rate_difference которое описывает модуль разности рейтинга игроков(колонка созданна для того чтобы была возможность оценить встречи по разнице играющих, что безусловно можно делать и без данной колонки, вычисляя на каждом этапе данное число)\n",
    "2) winner_rate_difference которое описывает разность рейтинга победителя(колонка созданна для того чтобы была возможность оценить исход встречи при заданной разности рейтинга игроков, что безусловно можно делать и без данной колонки, вычисляя на каждом этапе данное число)\n",
    "3) численная оценка честности матча(так как необходимых оценок встреч среди данных нет, було решено основываясь на личном опыте игры в шахматы создать колонку численной оценки встречи, при разнице рейтинга более чем в 100 очков зачастую победить не представляется возможным)\n",
    "\n",
    "и посмотрим на получившиеся данные"
   ]
  },
  {
   "cell_type": "code",
   "execution_count": null,
   "id": "887588ab-5376-4d47-b0ba-13db7a5b1d77",
   "metadata": {},
   "outputs": [],
   "source": [
    "train['rate_difference'] = np.abs(train['white_rating'] - train['black_rating'])\n",
    "train['winner_rate_difference'] = train.apply(lambda x: ((x['white_rating'] - x['black_rating'] if x['winner'] == 'white' else x['black_rating'] - x['white_rating']) if x['winner'] != 'draw' else 0), axis=1)\n",
    "train['game_qual'] = train.apply(lambda x: (int(x['winner_rate_difference'] / 10) if (abs(x['winner_rate_difference']) / 10) <= 9 else 9 ), axis=1)\n",
    "X_train = train.drop(labels=['winner'], axis=1).copy()\n",
    "Y_train = train['winner'].values.copy()\n",
    "train.head()"
   ]
  },
  {
   "cell_type": "markdown",
   "id": "88047d56-7190-4e8d-9815-43ddd9c3533c",
   "metadata": {},
   "source": [
    "Проверим изменения в количестве данных"
   ]
  },
  {
   "cell_type": "code",
   "execution_count": null,
   "id": "724e1518-b296-4e46-9ca1-2076a4bb7b7b",
   "metadata": {},
   "outputs": [],
   "source": [
    "X_train.shape, Y_train.shape"
   ]
  },
  {
   "cell_type": "markdown",
   "id": "352bebbf-6069-408b-8e99-660dfbfe418e",
   "metadata": {},
   "source": [
    "Выведем гистограммы для первичного анализа данных"
   ]
  },
  {
   "cell_type": "code",
   "execution_count": null,
   "id": "2133d2de-70db-427a-b946-5f105fdf6e1b",
   "metadata": {},
   "outputs": [],
   "source": [
    "train.hist(figsize=(16, 20), bins=50, xlabelsize=8,ylabelsize=8);"
   ]
  },
  {
   "cell_type": "markdown",
   "id": "ab202cd4-513d-43ab-91bb-6b5ad265bbd4",
   "metadata": {},
   "source": [
    "Поскольку мы оцениваем влияние разности рейтинга на исход в стречи то целевой столбец rate_difference\n",
    "\n",
    "расмотрим детальнее гистограмма по данному столбцу\n",
    "\n",
    "заметим что ярких явных выбрасов не наблюдается"
   ]
  },
  {
   "cell_type": "code",
   "execution_count": null,
   "id": "57b59f29-406d-46b7-826a-8fdb92bc5796",
   "metadata": {},
   "outputs": [],
   "source": [
    "train['rate_difference'].hist(figsize=(16, 20), bins=50, xlabelsize=8,ylabelsize=8);"
   ]
  },
  {
   "cell_type": "markdown",
   "id": "3b2abba7-8d02-41b5-a73a-819e9e203b3c",
   "metadata": {},
   "source": [
    "для дальнейшего анализа построим график rate_difference/winner_rate_difference\n",
    "\n",
    "и заметим линейность(действительно ведь одни данные состоят из других...)\n",
    "\n",
    "но нас интересует больше знак этой зависимости, который указывает нам на исход встречи\n",
    "а также сама разность рейтингов\n",
    "\n",
    "на данном этапе уже заметны выбросы достаточно странных данных которые указывают что с разностью рейтингов более 100 побеждает менее опытный игрок\n",
    "\n",
    "а также то что игроки с разницей рейтингов более 100 выходят из встречи в ничью\n",
    "\n",
    "такие данные исходя из описанного выше считаем выбросами"
   ]
  },
  {
   "cell_type": "code",
   "execution_count": null,
   "id": "4eb1ab31-74c2-4188-ac9b-49705af30999",
   "metadata": {},
   "outputs": [],
   "source": [
    "fig, ax = plt.subplots(figsize=(9, 5))\n",
    "ax.scatter(x=train['rate_difference'], y=train['winner_rate_difference'])\n",
    "plt.ylabel('winner_rate_difference', fontsize=13)\n",
    "plt.xlabel('rate_difference', fontsize=13)\n",
    "plt.show()"
   ]
  },
  {
   "cell_type": "markdown",
   "id": "387370c0-75fc-4f01-8150-1dc8bbb7d7b4",
   "metadata": {},
   "source": [
    "далее расмотрм тот же график но отсечем те данные которые посчитали не валидными на предыдущем этапе\n",
    "\n",
    "теперь график зависимости результата встречи от разницы рейтинга играющих является более правдоподобным\n",
    "поскольку как правило людам с рейтингом выше нашего на 100 значительно легче выйграть"
   ]
  },
  {
   "cell_type": "code",
   "execution_count": null,
   "id": "ce351e45-689c-4c2d-ab7d-682af3c25254",
   "metadata": {},
   "outputs": [],
   "source": [
    "train = train.drop(\n",
    "    train[\n",
    "        (\n",
    "            (train['black_rating'] + 100 < train['white_rating']) & (train['winner'] == 'black')\n",
    "        ) | \n",
    "        (\n",
    "            (train['black_rating']  > train['white_rating'] + 100) & (train['winner'] == 'white')\n",
    "        ) |\n",
    "        (\n",
    "            (train['rate_difference'] > 100) & (train['winner'] == 'draw')\n",
    "        )\n",
    "    ].index\n",
    ")\n",
    "\n",
    "fig, ax = plt.subplots(figsize=(9, 5))\n",
    "ax.scatter(x=train['rate_difference'], y=train['winner_rate_difference'])\n",
    "plt.ylabel('winner_rate_difference', fontsize=13)\n",
    "plt.xlabel('rate_difference', fontsize=13)\n",
    "plt.show()"
   ]
  },
  {
   "cell_type": "markdown",
   "id": "44a91b2d-d261-49c2-853b-5365f77b3780",
   "metadata": {},
   "source": [
    "Далее посмотрим на график оценки к разнице рейтинга(И да не стоит забывать что эти поля имеют 1 общего родителя)\n",
    "\n",
    "мы видим относительно предметной области хороший график без явных выбросов(что кажется логичным...)\n",
    "\n",
    "Но обратим внимание на самый яркий столбец, он имеет такой вид ввиду того что в данной предметной области чем больше разность рейтингов тем более легкая победа будет, такой картины в отрицательных значених мы не наблюдаем ввиду того что приняли постфактом, то что победить человеку с рейтингом ниже более чем на 100 очков невозможно(отфильтровали данные выше...)\n",
    "\n",
    "данный график нас устраивает"
   ]
  },
  {
   "cell_type": "code",
   "execution_count": null,
   "id": "75b2f094-2383-4800-8909-bab1aed7eef2",
   "metadata": {},
   "outputs": [],
   "source": [
    "columns = ['rate_difference', 'winner_rate_difference', 'game_qual']\n",
    "\n",
    "g = sns.FacetGrid(train[columns], hue='game_qual', height=5) \\\n",
    "    .map(plt.scatter, 'game_qual', 'rate_difference') \\\n",
    "    .add_legend()\n",
    "\n",
    "g = g.map(plt.scatter, 'game_qual', 'rate_difference', edgecolor='w').add_legend()\n",
    "\n",
    "plt.show()"
   ]
  },
  {
   "cell_type": "markdown",
   "id": "d3617265-b44f-480b-bc2f-060cac14e3ba",
   "metadata": {},
   "source": [
    "Графически оценим нормализацию наших данных\n",
    "\n",
    "исходя из графиков видно, что данные имеют на небольшом участке нормализованный вид, но по большей части нет"
   ]
  },
  {
   "cell_type": "code",
   "execution_count": null,
   "id": "f57646af-d2d2-45eb-b37e-efa75e1bf204",
   "metadata": {},
   "outputs": [],
   "source": [
    "sns.distplot(train['rate_difference'], fit=stats.norm);\n",
    "\n",
    "(mu, sigma) = stats.norm.fit(train['rate_difference'])\n",
    "\n",
    "plt.legend(['Normal dist. ($\\mu=$ {:.2f} and $\\sigma=$ {:.2f} )'.format(mu, sigma)],\n",
    "            loc='best')\n",
    "plt.ylabel('Frequency')\n",
    "plt.title('Rate difference distribution')\n",
    "\n",
    "#Get also the QQ-plot\n",
    "fig = plt.figure()\n",
    "res = stats.probplot(train['rate_difference'], plot=plt)\n",
    "plt.show()"
   ]
  },
  {
   "cell_type": "markdown",
   "id": "4df04271-763f-4fd3-a4f6-b6f564d5abdf",
   "metadata": {},
   "source": [
    "Прологарифмируем данные в попытке нормализовать их"
   ]
  },
  {
   "cell_type": "code",
   "execution_count": null,
   "id": "10c6635a-3684-4dd4-aca8-b44d78342d48",
   "metadata": {},
   "outputs": [],
   "source": [
    "train['rate_difference'] = np.log1p(train['rate_difference'])"
   ]
  },
  {
   "cell_type": "markdown",
   "id": "43451114-fb0e-43ca-9ce7-55fc8b871480",
   "metadata": {},
   "source": [
    "проверим умеличилась ли протяженность наложения наших графиков\n",
    "\n",
    "Да увеличилось, что позволяет нам сказать что на данном промежутке наши данные нормализованы\n",
    "но также мы видим некоторые выбросы... связаны они с набором данных в данном случае из-за наличия игр соперников координально отличающихся по рейтингу, что в обычных играх не встречается"
   ]
  },
  {
   "cell_type": "code",
   "execution_count": null,
   "id": "7dadccad-e411-48ba-97f8-300c8016d45b",
   "metadata": {},
   "outputs": [],
   "source": [
    "sns.distplot(train['rate_difference'], fit=stats.norm);\n",
    "\n",
    "(mu, sigma) = stats.norm.fit(train['rate_difference'])\n",
    "\n",
    "plt.legend(['Normal dist. ($\\mu=$ {:.2f} and $\\sigma=$ {:.2f} )'.format(mu, sigma)],\n",
    "            loc='best')\n",
    "plt.ylabel('Frequency')\n",
    "plt.title('Rate difference distribution')\n",
    "\n",
    "#Get also the QQ-plot\n",
    "fig = plt.figure()\n",
    "res = stats.probplot(train['rate_difference'], plot=plt)\n",
    "plt.show()"
   ]
  },
  {
   "cell_type": "markdown",
   "id": "b8a24093-7c54-4cfb-9f94-25b9f2c29650",
   "metadata": {},
   "source": [
    "Посмотрим на отображение полей друг на друга\n",
    "\n",
    "Видим их всех взаимосвязь(как и предполагалось)"
   ]
  },
  {
   "cell_type": "code",
   "execution_count": null,
   "id": "9fcdeb29-a3a4-46ee-87fb-75891d353d30",
   "metadata": {},
   "outputs": [],
   "source": [
    "columns = ['rate_difference', 'winner_rate_difference', 'game_qual']\n",
    "\n",
    "pd.plotting.scatter_matrix(train[columns], figsize=(12,12))\n",
    "plt.figure()"
   ]
  },
  {
   "cell_type": "markdown",
   "id": "4e4982e5-72aa-414b-b095-d840d6195cb9",
   "metadata": {},
   "source": [
    "Для более точного понимания степени связанности данных построим тепловую карту со коэфицентами связностей\n",
    "\n",
    "на которой более точно понятно во сколько раз наши данные связанны"
   ]
  },
  {
   "cell_type": "code",
   "execution_count": null,
   "id": "5fb94ae6-fa79-4107-801f-16b3531804dc",
   "metadata": {},
   "outputs": [],
   "source": [
    "corrmat = train.corr()\n",
    "plt.subplots(figsize=(15,9))\n",
    "sns.heatmap(corrmat[(corrmat >= 0.4) | (corrmat < -0.4)], \n",
    "            cmap='viridis',\n",
    "            vmax=1.0, vmin=-1.0,\n",
    "            linewidth=0.1,\n",
    "            annot=True,\n",
    "            annot_kws={\"size\":8})"
   ]
  },
  {
   "cell_type": "markdown",
   "id": "1f2b83b2-f586-4d3f-9cec-052a1b4185e8",
   "metadata": {},
   "source": [
    "Обьеденим тестовые и обучающие данные для дальнейшего анализа"
   ]
  },
  {
   "cell_type": "code",
   "execution_count": null,
   "id": "92a5cff3-4176-4408-ac59-52ef7944df59",
   "metadata": {},
   "outputs": [],
   "source": [
    "ntrain = train.shape[0]\n",
    "ntest = test.shape[0]\n",
    "y_train = train.rate_difference.values\n",
    "all_data = pd.concat((train, test), sort=True).reset_index(drop=True)\n",
    "all_data.drop(['rate_difference'], axis=1, inplace=True)\n",
    "print(\"all_data size is : {}\".format(all_data.shape))"
   ]
  },
  {
   "cell_type": "markdown",
   "id": "72dfb5bf-58a0-4501-9a9f-3d57a54a4726",
   "metadata": {},
   "source": [
    "Посчитаем пропущеные данные\n",
    "\n",
    "Таковых нет, что логично для этих данных"
   ]
  },
  {
   "cell_type": "code",
   "execution_count": null,
   "id": "df6d8725-f10a-438f-b46b-67ff8db1d0b8",
   "metadata": {},
   "outputs": [],
   "source": [
    "all_data_na = (train.isnull().sum() / len(train)) * 100\n",
    "# all_data_na = all_data_na.drop(all_data_na[all_data_na == 0].index).sort_values(ascending=False)\n",
    "missing_data = pd.DataFrame({'Missing Ratio' :all_data_na})\n",
    "missing_data.head()"
   ]
  },
  {
   "cell_type": "markdown",
   "id": "e9fe89b9-82be-4018-a4d0-3ffceaf993b6",
   "metadata": {},
   "source": [
    "Просмотрим смещение распределения признаков\n",
    "\n",
    "коэфиценты хоршие)\n"
   ]
  },
  {
   "cell_type": "code",
   "execution_count": null,
   "id": "c37dd800-42c2-42d5-8e50-95154fcddcd6",
   "metadata": {},
   "outputs": [],
   "source": [
    "numeric_feats = train.dtypes[train.dtypes != \"object\"].index\n",
    "\n",
    "# Check the skew of all numerical features\n",
    "skewed_feats = train[numeric_feats].apply(lambda x: stats.skew(x.dropna())).sort_values(ascending=False)\n",
    "print(\"\\nSkew in numerical features: \\n\")\n",
    "skewness = pd.DataFrame({'Skew' :skewed_feats})\n",
    "skewness.head(10)"
   ]
  },
  {
   "cell_type": "markdown",
   "id": "250ae37c-ff09-416a-bde0-9369e5a309a3",
   "metadata": {},
   "source": [
    "разделим данные обратно на тренировочные и тестовые"
   ]
  },
  {
   "cell_type": "code",
   "execution_count": null,
   "id": "8571eb2b-b1ed-454f-a9c4-f43930b45a69",
   "metadata": {},
   "outputs": [],
   "source": [
    "train = all_data[:ntrain]\n",
    "test = all_data[ntrain:]"
   ]
  },
  {
   "cell_type": "markdown",
   "id": "f9bb7863-99fb-4e41-bc87-c3f7b974e70a",
   "metadata": {},
   "source": [
    "Хоть и набор данных был выбран не большой и не сложный, но именно это и заставило с ним помучаться-.-"
   ]
  }
 ],
 "metadata": {
  "kernelspec": {
   "display_name": "Python 3 (ipykernel)",
   "language": "python",
   "name": "python3"
  },
  "language_info": {
   "codemirror_mode": {
    "name": "ipython",
    "version": 3
   },
   "file_extension": ".py",
   "mimetype": "text/x-python",
   "name": "python",
   "nbconvert_exporter": "python",
   "pygments_lexer": "ipython3",
   "version": "3.9.6"
  }
 },
 "nbformat": 4,
 "nbformat_minor": 5
}
